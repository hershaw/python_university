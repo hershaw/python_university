{
 "cells": [
  {
   "cell_type": "markdown",
   "metadata": {},
   "source": [
    "**Run this Jupyter Notebook**\n",
    "- Run this Notebook via [**Google Colab Platform**](https://colab.research.google.com/github/mhmaem/python_university/blob/master/01_python_beginner_interactive_cheatsheets/01_03_control_flow.ipynb)\n",
    "- Download this [**Notebook**](https://github.com/mhmaem/python_university/blob/master/01_python_beginner_interactive_cheatsheets/01_03_control_flow.ipynb) to run it locally"
   ]
  },
  {
   "cell_type": "markdown",
   "metadata": {},
   "source": [
    "---\n",
    "---\n",
    "# **Control Flow Structures**\n",
    "Normally Python code is executed sequentially but most of time this behavior is needed to be adapted so the program can carry out its supposed job, that can be achieved through using control flow structures\n",
    "Control flow structures can be categorized into two main type:\n",
    "\n",
    " - Conditional\n",
    "\t - if-elif-else\n",
    " - Repeatable (loops)\n",
    "\t - for loop\n",
    "\t - while loop\n",
    "\n"
   ]
  },
  {
   "cell_type": "markdown",
   "metadata": {},
   "source": [
    "---\n",
    "---\n",
    "## **Conditional**\n",
    "### **if-elif-else**"
   ]
  },
  {
   "cell_type": "code",
   "execution_count": 3,
   "metadata": {},
   "outputs": [
    {
     "name": "stdout",
     "output_type": "stream",
     "text": [
      "Currentthe water is steam!\n"
     ]
    }
   ],
   "source": [
    "water_temperature = 5\n",
    "\n",
    "if water_temperature <= 0:\n",
    "    print('Currentthe water is ice!')\n",
    "elif water_temperature < 100:\n",
    "    print('Currentthe water is liquid!')\n",
    "else:\n",
    "    print('Currentthe water is steam!')"
   ]
  },
  {
   "cell_type": "markdown",
   "metadata": {},
   "source": [
    "---\n",
    "---\n",
    "## **Repeatable (loops)**\n",
    "### **for loop**\n",
    "For loops work over sequnces\n",
    "#### **range**"
   ]
  },
  {
   "cell_type": "code",
   "execution_count": 8,
   "metadata": {},
   "outputs": [
    {
     "name": "stdout",
     "output_type": "stream",
     "text": [
      "Current value of range_var is : 0\n",
      "Current value of range_var is : 2\n",
      "Current value of range_var is : 4\n",
      "Current value of range_var is : 6\n",
      "Current value of range_var is : 8\n"
     ]
    }
   ],
   "source": [
    "for range_var in range(0, 10, 2):\n",
    "    print('Current value of range_var is : {}'.format(range_var))"
   ]
  },
  {
   "cell_type": "markdown",
   "metadata": {},
   "source": [
    "#### **iterators**"
   ]
  },
  {
   "cell_type": "code",
   "execution_count": 7,
   "metadata": {},
   "outputs": [
    {
     "name": "stdout",
     "output_type": "stream",
     "text": [
      "Current value of list_element is : one\n",
      "Current value of list_element is : 2\n",
      "Current value of list_element is : 3.5\n"
     ]
    }
   ],
   "source": [
    "for list_element in ['one', 2, 3.5]:\n",
    "    print('Current value of list_element is : {}'.format(list_element))"
   ]
  },
  {
   "cell_type": "markdown",
   "metadata": {},
   "source": [
    "---\n",
    "### **while loop**\n",
    "While loops iterates till meet a specific condition"
   ]
  },
  {
   "cell_type": "code",
   "execution_count": 9,
   "metadata": {},
   "outputs": [
    {
     "name": "stdout",
     "output_type": "stream",
     "text": [
      "Current temperature is : 10\n",
      "Current temperature is : 20\n",
      "Current temperature is : 30\n",
      "Current temperature is : 40\n",
      "Current temperature is : 50\n",
      "Current temperature is : 60\n",
      "Current temperature is : 70\n",
      "Current temperature is : 80\n",
      "Current temperature is : 90\n",
      "Current temperature is : 100\n",
      "Finally water is boiling!\n"
     ]
    }
   ],
   "source": [
    "current_temperature = 0\n",
    "while current_temperature < 100:\n",
    "    current_temperature += 10\n",
    "    print('Current temperature is : {}'.format(current_temperature))\n",
    "print('Finally water is boiling!')"
   ]
  },
  {
   "cell_type": "code",
   "execution_count": null,
   "metadata": {},
   "outputs": [],
   "source": []
  }
 ],
 "metadata": {
  "kernelspec": {
   "display_name": "Python 3",
   "language": "python",
   "name": "python3"
  },
  "language_info": {
   "codemirror_mode": {
    "name": "ipython",
    "version": 3
   },
   "file_extension": ".py",
   "mimetype": "text/x-python",
   "name": "python",
   "nbconvert_exporter": "python",
   "pygments_lexer": "ipython3",
   "version": "3.7.2"
  }
 },
 "nbformat": 4,
 "nbformat_minor": 2
}
