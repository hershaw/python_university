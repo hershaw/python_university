{
 "cells": [
  {
   "cell_type": "markdown",
   "metadata": {},
   "source": [
    "**Run this Jupyter Notebook**\n",
    "- Run this Notebook via [**Google Colab Platform**](https://colab.research.google.com/github/mhmaem/python_university/blob/master/01_python_beginner_interactive_cheatsheets/01_03_control_flow.ipynb)\n",
    "- Download this [**Notebook**](https://github.com/mhmaem/python_university/blob/master/01_python_beginner_interactive_cheatsheets/01_03_control_flow.ipynb) to run it locally"
   ]
  },
  {
   "cell_type": "markdown",
   "metadata": {},
   "source": [
    "---\n",
    "---\n",
    "# **Control Flow Structures**\n",
    "Normally Python code is executed sequentially but most of time this behavior is needed to be adapted so the program can carry out its supposed job, that can be achieved through using control flow structures\n",
    "Control flow structures can be categorized into two main type:\n",
    "\n",
    " - Conditional\n",
    "\t - if-elif-else\n",
    " - Repeatable (loops)\n",
    "\t - for loop\n",
    "\t - while loop\n",
    "\n"
   ]
  },
  {
   "cell_type": "markdown",
   "metadata": {},
   "source": [
    "---\n",
    "---\n",
    "## **Conditional**\n",
    "### **if-elif-else**"
   ]
  },
  {
   "cell_type": "code",
   "execution_count": 1,
   "metadata": {},
   "outputs": [
    {
     "name": "stdout",
     "output_type": "stream",
     "text": [
      "Currentthe water is liquid!\n"
     ]
    }
   ],
   "source": [
    "water_temperature = 5\n",
    "\n",
    "if water_temperature <= 0:\n",
    "    print('Currentthe water is ice!')\n",
    "elif water_temperature < 100:\n",
    "    print('Currentthe water is liquid!')\n",
    "else:\n",
    "    print('Currentthe water is steam!')"
   ]
  },
  {
   "cell_type": "markdown",
   "metadata": {},
   "source": [
    "---\n",
    "---\n",
    "## **Repeatable (Loops)**\n",
    "### **For Loop**\n",
    "For loops work over sequnces\n",
    "#### **range**"
   ]
  },
  {
   "cell_type": "code",
   "execution_count": 2,
   "metadata": {},
   "outputs": [
    {
     "name": "stdout",
     "output_type": "stream",
     "text": [
      "Current value of range_var is : 0\n",
      "Current value of range_var is : 2\n",
      "Current value of range_var is : 4\n",
      "Current value of range_var is : 6\n",
      "Current value of range_var is : 8\n"
     ]
    }
   ],
   "source": [
    "for range_var in range(0, 10, 2):\n",
    "    print('Current value of range_var is : {}'.format(range_var))"
   ]
  },
  {
   "cell_type": "markdown",
   "metadata": {},
   "source": [
    "#### **iterators**"
   ]
  },
  {
   "cell_type": "code",
   "execution_count": 3,
   "metadata": {},
   "outputs": [
    {
     "name": "stdout",
     "output_type": "stream",
     "text": [
      "Current value of list_element is : one\n",
      "Current value of list_element is : 2\n",
      "Current value of list_element is : 3.5\n"
     ]
    }
   ],
   "source": [
    "for list_element in ['one', 2, 3.5]:\n",
    "    print('Current value of list_element is : {}'.format(list_element))"
   ]
  },
  {
   "cell_type": "markdown",
   "metadata": {},
   "source": [
    "---\n",
    "### **While Loop**\n",
    "While loops iterates till meet a specific condition"
   ]
  },
  {
   "cell_type": "code",
   "execution_count": 4,
   "metadata": {},
   "outputs": [
    {
     "name": "stdout",
     "output_type": "stream",
     "text": [
      "Current temperature is : 10\n",
      "Current temperature is : 20\n",
      "Current temperature is : 30\n",
      "Current temperature is : 40\n",
      "Current temperature is : 50\n",
      "Current temperature is : 60\n",
      "Current temperature is : 70\n",
      "Current temperature is : 80\n",
      "Current temperature is : 90\n",
      "Current temperature is : 100\n",
      "Finally water is boiling!\n"
     ]
    }
   ],
   "source": [
    "current_temperature = 0\n",
    "while current_temperature < 100:\n",
    "    current_temperature += 10\n",
    "    print('Current temperature is : {}'.format(current_temperature))\n",
    "print('Finally water is boiling!')"
   ]
  },
  {
   "cell_type": "markdown",
   "metadata": {},
   "source": [
    "---\n",
    "### **Loops Fine-Tuning**\n",
    "#### **Break**"
   ]
  },
  {
   "cell_type": "code",
   "execution_count": 5,
   "metadata": {},
   "outputs": [
    {
     "name": "stdout",
     "output_type": "stream",
     "text": [
      "[1, 1, 2, 3, 5, 8, 13, 21, 34, 55, 89]\n"
     ]
    }
   ],
   "source": [
    "a, b = 0, 1\n",
    "amax = 100\n",
    "L = []\n",
    "\n",
    "while True:\n",
    "    (a, b) = (b, a + b)\n",
    "    if a > amax:\n",
    "        break\n",
    "    L.append(a)\n",
    "\n",
    "print(L)"
   ]
  },
  {
   "cell_type": "markdown",
   "metadata": {},
   "source": [
    "#### **Continue**"
   ]
  },
  {
   "cell_type": "code",
   "execution_count": 6,
   "metadata": {},
   "outputs": [
    {
     "name": "stdout",
     "output_type": "stream",
     "text": [
      "1 3 5 7 9 11 13 15 17 19 "
     ]
    }
   ],
   "source": [
    "for n in range(20):\n",
    "    if n % 2 == 0:\n",
    "        continue\n",
    "    print(n, end=' ')"
   ]
  },
  {
   "cell_type": "markdown",
   "metadata": {},
   "source": [
    "### **Else Within Loop**\n",
    "It is a rare way of looping and sometimes confusing"
   ]
  },
  {
   "cell_type": "code",
   "execution_count": 7,
   "metadata": {},
   "outputs": [
    {
     "name": "stdout",
     "output_type": "stream",
     "text": [
      "[2, 3, 5, 7, 11, 13, 17, 19, 23, 29]\n"
     ]
    }
   ],
   "source": [
    "L = []\n",
    "nmax = 30\n",
    "\n",
    "for n in range(2, nmax):\n",
    "    for factor in L:\n",
    "        if n % factor == 0:\n",
    "            break\n",
    "    else: # no breaks\n",
    "        L.append(n)\n",
    "print(L)"
   ]
  },
  {
   "cell_type": "code",
   "execution_count": null,
   "metadata": {},
   "outputs": [],
   "source": []
  }
 ],
 "metadata": {
  "kernelspec": {
   "display_name": "Python 3",
   "language": "python",
   "name": "python3"
  },
  "language_info": {
   "codemirror_mode": {
    "name": "ipython",
    "version": 3
   },
   "file_extension": ".py",
   "mimetype": "text/x-python",
   "name": "python",
   "nbconvert_exporter": "python",
   "pygments_lexer": "ipython3",
   "version": "3.7.2"
  }
 },
 "nbformat": 4,
 "nbformat_minor": 2
}
