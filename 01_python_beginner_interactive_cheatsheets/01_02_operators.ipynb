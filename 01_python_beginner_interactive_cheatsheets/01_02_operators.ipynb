{
 "cells": [
  {
   "cell_type": "markdown",
   "metadata": {},
   "source": [
    "**Run this Jupyter Notebook**\n",
    "- Run this Notebook via [**Google Colab Platform**](https://colab.research.google.com/github/mhmaem/python_university/blob/master/01_python_beginner_interactive_cheatsheets/01_02_operators.ipynb)\n",
    "- Download this [**Notebook**](https://github.com/mhmaem/python_university/blob/master/01_python_beginner_interactive_cheatsheets/01_02_operators.ipynb) to run it locally"
   ]
  },
  {
   "cell_type": "markdown",
   "metadata": {},
   "source": [
    "---\n",
    "---\n",
    "# **Built-in Python Operators**\n",
    "Python has many types of operators:\n",
    "-   Arithmetic\n",
    "-   Relational\n",
    "-   Assignment\n",
    "-   Logical\n",
    "-   Membership\n",
    "-   Identity\n",
    "-   Bitwise"
   ]
  },
  {
   "cell_type": "markdown",
   "metadata": {},
   "source": [
    "---\n",
    "## **Arithmetic Operators**\n",
    "| **Operator** | **Action** | **Example** |\n",
    "|--|--|--|\n",
    "| + | **Addition** | 1+2 |\n",
    "| - | **Subtraction** | 1-2 |\n",
    "| * | **Multiplication** | 1*2 |\n",
    "| / | **Division** | 1/2 |\n",
    "| ** | **Exponentiation** | 1**2 |\n",
    "| // | **Floor Division** | 1//2 |\n",
    "| % | **Modulus** | 1%2 |\n"
   ]
  },
  {
   "cell_type": "code",
   "execution_count": 1,
   "metadata": {},
   "outputs": [
    {
     "name": "stdout",
     "output_type": "stream",
     "text": [
      "7 3 10 2.5\n"
     ]
    }
   ],
   "source": [
    " print(5+2, 5-2, 5*2, 5/2)"
   ]
  },
  {
   "cell_type": "code",
   "execution_count": 2,
   "metadata": {},
   "outputs": [
    {
     "data": {
      "text/plain": [
       "25"
      ]
     },
     "execution_count": 2,
     "metadata": {},
     "output_type": "execute_result"
    }
   ],
   "source": [
    "5**2"
   ]
  },
  {
   "cell_type": "code",
   "execution_count": 3,
   "metadata": {},
   "outputs": [
    {
     "data": {
      "text/plain": [
       "2"
      ]
     },
     "execution_count": 3,
     "metadata": {},
     "output_type": "execute_result"
    }
   ],
   "source": [
    "5//2"
   ]
  },
  {
   "cell_type": "code",
   "execution_count": 4,
   "metadata": {},
   "outputs": [
    {
     "data": {
      "text/plain": [
       "1"
      ]
     },
     "execution_count": 4,
     "metadata": {},
     "output_type": "execute_result"
    }
   ],
   "source": [
    "5%2"
   ]
  },
  {
   "cell_type": "markdown",
   "metadata": {},
   "source": [
    "---\n",
    "## **Relational Operators**\n",
    "| **Operator** | **Action** | **Example** |\n",
    "|--|--|--|\n",
    "| < | **Less than** | 1<2 |\n",
    "| > | **Greater than**| 1>2 |\n",
    "| <= | **Less than or equal to** | 1<=2 |\n",
    "| >= | **Greater than or equal to** | 1>=2 |\n",
    "| == | **Equal to** | 1==2 |\n",
    "| != | **Not equal to** | 1!=2 |\n"
   ]
  },
  {
   "cell_type": "code",
   "execution_count": 5,
   "metadata": {},
   "outputs": [
    {
     "name": "stdout",
     "output_type": "stream",
     "text": [
      "True False True False False True\n"
     ]
    }
   ],
   "source": [
    "print(1<2, 1>2, 1<=2, 1>=2, 1==2, 1!=2)"
   ]
  },
  {
   "cell_type": "markdown",
   "metadata": {},
   "source": [
    "---\n",
    "## **Assignment Operators**\n",
    "| **Operator** | **Action** | **Example** |\n",
    "|--|--|--|\n",
    "| = | **Assign** | i=2 |\n",
    "| += | **Add and Assign**| i+=2 |\n",
    "| -= | **Subtract and Assign** | i-=2 |\n",
    "| /= | **Divide and Assign** | i/=2 |\n",
    "| *= | **Multiply and Assign** | i*=2 |\n",
    "| %= | **Modulus and Assign** | i%=2 |\n",
    "| **= | **Exponent and Assign** | i**=2 |\n",
    "| //= | **Floor-Divide and Assign** | i//=2 |\n"
   ]
  },
  {
   "cell_type": "code",
   "execution_count": 6,
   "metadata": {},
   "outputs": [
    {
     "data": {
      "text/plain": [
       "5"
      ]
     },
     "execution_count": 6,
     "metadata": {},
     "output_type": "execute_result"
    }
   ],
   "source": [
    "i = 5\n",
    "i"
   ]
  },
  {
   "cell_type": "code",
   "execution_count": 7,
   "metadata": {},
   "outputs": [
    {
     "data": {
      "text/plain": [
       "7"
      ]
     },
     "execution_count": 7,
     "metadata": {},
     "output_type": "execute_result"
    }
   ],
   "source": [
    "i += 2\n",
    "i"
   ]
  },
  {
   "cell_type": "code",
   "execution_count": 8,
   "metadata": {},
   "outputs": [
    {
     "data": {
      "text/plain": [
       "5"
      ]
     },
     "execution_count": 8,
     "metadata": {},
     "output_type": "execute_result"
    }
   ],
   "source": [
    "i -= 2\n",
    "i"
   ]
  },
  {
   "cell_type": "code",
   "execution_count": 9,
   "metadata": {},
   "outputs": [
    {
     "data": {
      "text/plain": [
       "2.5"
      ]
     },
     "execution_count": 9,
     "metadata": {},
     "output_type": "execute_result"
    }
   ],
   "source": [
    "i /= 2\n",
    "i"
   ]
  },
  {
   "cell_type": "code",
   "execution_count": 10,
   "metadata": {},
   "outputs": [
    {
     "data": {
      "text/plain": [
       "5.0"
      ]
     },
     "execution_count": 10,
     "metadata": {},
     "output_type": "execute_result"
    }
   ],
   "source": [
    "i *= 2\n",
    "i"
   ]
  },
  {
   "cell_type": "code",
   "execution_count": 11,
   "metadata": {},
   "outputs": [
    {
     "data": {
      "text/plain": [
       "2.0"
      ]
     },
     "execution_count": 11,
     "metadata": {},
     "output_type": "execute_result"
    }
   ],
   "source": [
    "i //= 2\n",
    "i"
   ]
  },
  {
   "cell_type": "code",
   "execution_count": 12,
   "metadata": {},
   "outputs": [
    {
     "data": {
      "text/plain": [
       "4.0"
      ]
     },
     "execution_count": 12,
     "metadata": {},
     "output_type": "execute_result"
    }
   ],
   "source": [
    "i **= 2\n",
    "i"
   ]
  },
  {
   "cell_type": "code",
   "execution_count": 13,
   "metadata": {},
   "outputs": [
    {
     "data": {
      "text/plain": [
       "0.0"
      ]
     },
     "execution_count": 13,
     "metadata": {},
     "output_type": "execute_result"
    }
   ],
   "source": [
    "i %= 2\n",
    "i"
   ]
  },
  {
   "cell_type": "markdown",
   "metadata": {},
   "source": [
    "---\n",
    "## **Logical Operators**\n",
    "| **Operator** | **Action** | **Example** |\n",
    "|--|--|--|\n",
    "| and | **Logical And** | (bool expr) and (bool expr) |\n",
    "| or | **Logical Or**| (bool expr) or (bool expr) |\n",
    "| not | **Logical Not** | not(bool expr) |\n"
   ]
  },
  {
   "cell_type": "code",
   "execution_count": 14,
   "metadata": {},
   "outputs": [
    {
     "name": "stdout",
     "output_type": "stream",
     "text": [
      "False True\n"
     ]
    }
   ],
   "source": [
    "print((True and False), (True or False))"
   ]
  },
  {
   "cell_type": "code",
   "execution_count": 15,
   "metadata": {},
   "outputs": [
    {
     "name": "stdout",
     "output_type": "stream",
     "text": [
      "True False\n"
     ]
    }
   ],
   "source": [
    "print(not(True and False), not(True or False))"
   ]
  },
  {
   "cell_type": "markdown",
   "metadata": {},
   "source": [
    "---\n",
    "## **Membership Operators**\n",
    "| **Operator** | **Action** | **Example** |\n",
    "|--|--|--|\n",
    "| in | **Check if an element is a member within a sequence** | elem in list |\n",
    "| not in | **Check if an element is not a member within a sequence** | elem not in list |\n"
   ]
  },
  {
   "cell_type": "code",
   "execution_count": 16,
   "metadata": {},
   "outputs": [
    {
     "name": "stdout",
     "output_type": "stream",
     "text": [
      "True True\n"
     ]
    }
   ],
   "source": [
    "print(2 in [1, 2], 3 not in [1,2])"
   ]
  },
  {
   "cell_type": "markdown",
   "metadata": {},
   "source": [
    "---\n",
    "## **Identity Operators**\n",
    "| **Operator** | **Action** | **Example** |\n",
    "|--|--|--|\n",
    "| is | **Check for same identity** | var1 is var2 |\n",
    "| is not | **Check for different identity** | var1 is not var2 |\n"
   ]
  },
  {
   "cell_type": "code",
   "execution_count": 17,
   "metadata": {},
   "outputs": [
    {
     "name": "stdout",
     "output_type": "stream",
     "text": [
      "False True\n"
     ]
    }
   ],
   "source": [
    "print(1 is '1', 'two' is \"two\")"
   ]
  },
  {
   "cell_type": "markdown",
   "metadata": {},
   "source": [
    "---\n",
    "## **Bitwise Operators**\n",
    "| **Operator** | **Action** | **Example** |\n",
    "|--|--|--|\n",
    "| & | **Binary AND** | 2&3 |\n",
    "| \\| | **Binary OR** | 2\\|3 |\n",
    "| ^ | **Binary XOR** | 2^3 |\n",
    "| ~ | **Binary One’s Complement** | ~3 |\n",
    "| << | **Binary Left-Shift** | 2<<2 |\n",
    "| >> | **Binary Right-Shift** | 3>>1 |\n"
   ]
  },
  {
   "cell_type": "code",
   "execution_count": 18,
   "metadata": {},
   "outputs": [
    {
     "name": "stdout",
     "output_type": "stream",
     "text": [
      "2 3 1\n"
     ]
    }
   ],
   "source": [
    "print(2&3, 2|3, 2^3)"
   ]
  },
  {
   "cell_type": "code",
   "execution_count": 19,
   "metadata": {},
   "outputs": [
    {
     "name": "stdout",
     "output_type": "stream",
     "text": [
      "-4\n"
     ]
    }
   ],
   "source": [
    "print(~3)"
   ]
  },
  {
   "cell_type": "code",
   "execution_count": 20,
   "metadata": {},
   "outputs": [
    {
     "name": "stdout",
     "output_type": "stream",
     "text": [
      "8 1\n"
     ]
    }
   ],
   "source": [
    "print(2<<2, 3>>1)"
   ]
  }
 ],
 "metadata": {
  "kernelspec": {
   "display_name": "Python 3",
   "language": "python",
   "name": "python3"
  },
  "language_info": {
   "codemirror_mode": {
    "name": "ipython",
    "version": 3
   },
   "file_extension": ".py",
   "mimetype": "text/x-python",
   "name": "python",
   "nbconvert_exporter": "python",
   "pygments_lexer": "ipython3",
   "version": "3.7.2"
  }
 },
 "nbformat": 4,
 "nbformat_minor": 2
}
