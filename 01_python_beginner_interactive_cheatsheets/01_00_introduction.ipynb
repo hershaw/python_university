{
 "cells": [
  {
   "cell_type": "markdown",
   "metadata": {},
   "source": [
    "# Python Beginner Interactive Cheat Sheets\n",
    "Python Beginner Interactive Cheat Sheets are Jupyter Notebooks which contains Python code snippets of basic level\n",
    "This track needs primarily knowledge of the procedural development to be able to digest this track contents\n",
    "\n",
    "## For whom this track?\n",
    " - New comers to the Python world\n",
    " - Students who need to utilize python for simulation and so on\n",
    " - Data analysts and scientists who need to utilize the huge data centeric Python echo system\n",
    " - Python developers who want to review the language syntax and tricks for exam or interview\n",
    "\n",
    "## Trying to be a professional Python developer?\n",
    "this track contains the required primarily knowledge for that but it is not enough yet,  to become a professional Python developer you will need to check the **Python Intermediate Interactive Cheat Sheets** track\n",
    "\n",
    "## Why one more learning track?\n",
    " - More comprehensive cheat sheets\n",
    " - Actively updated\n",
    " - Learning while trying \n",
    " - No need to preinstall any software to start learning (utilizing **[Google Colab Platform](https://colab.research.google.com)**)\n",
    " - All what is needed is a modern browser, so you can even learn through your phone (utilizing **[Google Colab Platform](https://colab.research.google.com)**)\n",
    "\n",
    "## How to use this track material?\n",
    "The main advantage of this track that it gives you the ability to learn while trying interactively, you can learn from the track's notebooks through many ways such like:\n",
    " - **Recommended Option**, at the top of each notebook there will be link open latest version directly  on **[Google Colab Platform](https://colab.research.google.com)** , that will allow you to run the original code snippets and even modify it before running it\n",
    " - Download and play the notebooks on any Python stack that supports Jupyter as an example **[Anaconda](https://www.anaconda.com/)** \n",
    " - **Least Recommended Option**, review the notebooks on read only mood via github, but the notebooks will not be interactive in that option\n",
    "\n",
    "## Track contents:\n",
    " - Built-in Python types, **run this Notebook via** [**Google Colab Platform**](https://colab.research.google.com/github/mhmaem/python_university/blob/master/01_python_beginner_interactive_cheatsheets/01_01_types.ipynb)\n",
    " - Built-in Python operators, **run this Notebook via** [**Google Colab Platform**](https://colab.research.google.com/github/mhmaem/python_university/blob/master/01_python_beginner_interactive_cheatsheets/01_02_operators.ipynb)\n",
    " - Control flow structures, **run this Notebook via** [**Google Colab Platform**](https://colab.research.google.com/github/mhmaem/python_university/blob/master/01_python_beginner_interactive_cheatsheets/01_03_control_flow.ipynb)\n",
    " - User defined functions, **run this Notebook via** [**Google Colab Platform**](https://colab.research.google.com/github/mhmaem/python_university/blob/master/01_python_beginner_interactive_cheatsheets/01_04_funcions.ipynb)\n",
    " - Miscellaneous, **run this Notebook via** [**Google Colab Platform**](https://colab.research.google.com/github/mhmaem/python_university/blob/master/01_python_beginner_interactive_cheatsheets/01_05_miscellaneous.ipynb)\n",
    "\n",
    "# Important\n",
    "Kindly put these points into your consideration to gain the most benefit of this work:\n",
    " - This repository will always be under massive upgrading and improving so it is recommended to watch the repository to keep updated instead of having a copy of it because it will get outdated after short time\n",
    " - Two main of updates will be applied on the repository:\n",
    "\t - Structural update which stands for changing the locations of some parts of the track or applying some decorations\n",
    "\t - Functional updates: these kinds of updates related directly to the technical content of the track\n",
    " - The commits to the repository will always mention the update type so watchers can save their time and only \n",
    " - Your opinions, advises, amendment, corrections to improve the track quality and understandability will be highly appreciated\n"
   ]
  },
  {
   "cell_type": "code",
   "execution_count": null,
   "metadata": {},
   "outputs": [],
   "source": []
  }
 ],
 "metadata": {
  "kernelspec": {
   "display_name": "Python 3",
   "language": "python",
   "name": "python3"
  },
  "language_info": {
   "codemirror_mode": {
    "name": "ipython",
    "version": 3
   },
   "file_extension": ".py",
   "mimetype": "text/x-python",
   "name": "python",
   "nbconvert_exporter": "python",
   "pygments_lexer": "ipython3",
   "version": "3.7.2"
  }
 },
 "nbformat": 4,
 "nbformat_minor": 2
}
